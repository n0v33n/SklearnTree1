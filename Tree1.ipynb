{
 "cells": [
  {
   "cell_type": "code",
   "execution_count": 1,
   "id": "19f35a6a",
   "metadata": {},
   "outputs": [],
   "source": [
    "from sklearn import tree"
   ]
  },
  {
   "cell_type": "code",
   "execution_count": 2,
   "id": "f2534807",
   "metadata": {},
   "outputs": [],
   "source": [
    "features=[[140,1],[130,1],[150,0],[170,0]]\n",
    "# [weight,texture]\n",
    "# in texture 0-bumpy,1-smooth\n",
    "labels=[0,0,1,1]\n",
    "# 0-apple,1-orange"
   ]
  },
  {
   "cell_type": "code",
   "execution_count": 3,
   "id": "a9045d51",
   "metadata": {},
   "outputs": [],
   "source": [
    "clf=tree.DecisionTreeClassifier()"
   ]
  },
  {
   "cell_type": "code",
   "execution_count": 4,
   "id": "0fc2f602",
   "metadata": {},
   "outputs": [],
   "source": [
    "clf=clf.fit(features,labels)"
   ]
  },
  {
   "cell_type": "code",
   "execution_count": null,
   "id": "4941015c",
   "metadata": {},
   "outputs": [
    {
     "name": "stdout",
     "output_type": "stream",
     "text": [
      "Enter weight of the fruit:"
     ]
    }
   ],
   "source": [
    "print(\"Enter weight of the fruit\",end=\":\")\n",
    "a =int(input())\n",
    "print(\"Enter 0 for bumpy and 1 for smooth of the fruit\",end=\":\")\n",
    "b =int(input())"
   ]
  },
  {
   "cell_type": "code",
   "execution_count": null,
   "id": "6fbd4b4a",
   "metadata": {
    "scrolled": true
   },
   "outputs": [],
   "source": [
    "c=clf.predict([[a,b]])"
   ]
  },
  {
   "cell_type": "code",
   "execution_count": null,
   "id": "8e3da367",
   "metadata": {},
   "outputs": [],
   "source": [
    "print (c)"
   ]
  },
  {
   "cell_type": "code",
   "execution_count": null,
   "id": "c6b4aa52",
   "metadata": {},
   "outputs": [],
   "source": [
    "if c ==[1]:\n",
    "    print (\"It is an orange\")\n",
    "else :\n",
    "    print('It is an Apple')"
   ]
  },
  {
   "cell_type": "code",
   "execution_count": null,
   "id": "17ba74c8",
   "metadata": {},
   "outputs": [],
   "source": []
  },
  {
   "cell_type": "code",
   "execution_count": null,
   "id": "fa4b7ac0",
   "metadata": {},
   "outputs": [],
   "source": []
  }
 ],
 "metadata": {
  "kernelspec": {
   "display_name": "Python 3 (ipykernel)",
   "language": "python",
   "name": "python3"
  },
  "language_info": {
   "codemirror_mode": {
    "name": "ipython",
    "version": 3
   },
   "file_extension": ".py",
   "mimetype": "text/x-python",
   "name": "python",
   "nbconvert_exporter": "python",
   "pygments_lexer": "ipython3",
   "version": "3.9.13"
  }
 },
 "nbformat": 4,
 "nbformat_minor": 5
}
